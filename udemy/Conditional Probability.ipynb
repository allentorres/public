{
 "cells": [
  {
   "cell_type": "markdown",
   "metadata": {},
   "source": [
    "Conditional Probabilities\n",
    "======="
   ]
  },
  {
   "cell_type": "markdown",
   "metadata": {},
   "source": [
    "Given the events $A$ and $B$, the probability of $A$ given $B$ is defined as $$P(A|B):=\\frac{P(A\\cap B)}{P(A)}$$"
   ]
  },
  {
   "cell_type": "markdown",
   "metadata": {},
   "source": [
    "\"totals\" contain the total number of people in each age group. \"purchases\" contains the total number of things purchased by people in each age group"
   ]
  },
  {
   "cell_type": "code",
   "execution_count": 3,
   "metadata": {},
   "outputs": [],
   "source": [
    "from numpy import random\n",
    "random.seed(1)\n",
    "\n",
    "totals = {20:0,30:0,40:0,50:0,60:0,70:0}\n",
    "purchases = {20:0,30:0,40:0,50:0,60:0,70:0}\n",
    "totalPurchases = 0\n",
    "for _ in range(100000):\n",
    "    ageDecade = random.choice([20,30,40,50,60,70])\n",
    "    purchaseProbability=float(ageDecade)/100.0\n",
    "    totals[ageDecade]+=1\n",
    "    if random.random()<purchaseProbability:\n",
    "        totalPurchases+=1\n",
    "        purchases[ageDecade]+=1"
   ]
  },
  {
   "cell_type": "code",
   "execution_count": 4,
   "metadata": {},
   "outputs": [
    {
     "data": {
      "text/plain": [
       "{20: 16619, 30: 16571, 40: 16747, 50: 16608, 60: 16683, 70: 16772}"
      ]
     },
     "execution_count": 4,
     "metadata": {},
     "output_type": "execute_result"
    }
   ],
   "source": [
    "totals"
   ]
  },
  {
   "cell_type": "code",
   "execution_count": 5,
   "metadata": {},
   "outputs": [
    {
     "data": {
      "text/plain": [
       "{20: 3393, 30: 4999, 40: 6610, 50: 8351, 60: 10112, 70: 11771}"
      ]
     },
     "execution_count": 5,
     "metadata": {},
     "output_type": "execute_result"
    }
   ],
   "source": [
    "purchases"
   ]
  },
  {
   "cell_type": "markdown",
   "metadata": {},
   "source": [
    "$P(E|F)$ where $E$ is number of purchase and $F$ is the condition of your age."
   ]
  },
  {
   "cell_type": "code",
   "execution_count": 6,
   "metadata": {},
   "outputs": [
    {
     "name": "stdout",
     "output_type": "stream",
     "text": [
      "P(purchase|30s)=0.3016715949550419\n"
     ]
    }
   ],
   "source": [
    "PEF=float(purchases[30])/float(totals[30])\n",
    "print('P(purchase|30s)='+str(PEF))"
   ]
  },
  {
   "cell_type": "markdown",
   "metadata": {},
   "source": [
    "Your Assignment\n",
    "-----"
   ]
  },
  {
   "cell_type": "markdown",
   "metadata": {},
   "source": [
    "Modify the code such that the purchase probability does NOT vary with age, making $E$ and $F$ actually independent"
   ]
  },
  {
   "cell_type": "markdown",
   "metadata": {},
   "source": [
    "Then confirm that $P(E|F)$ is the same as $P(E)$ showing that the conditional probability of purchase for a given age is not any different than the a-priori probability regardless of age"
   ]
  },
  {
   "cell_type": "markdown",
   "metadata": {},
   "source": [
    "Bayes' Theorem\n",
    "======"
   ]
  },
  {
   "cell_type": "markdown",
   "metadata": {},
   "source": [
    "$$P(A|B)=\\frac{P(A)P(B|A)}{P(B)}$$"
   ]
  }
 ],
 "metadata": {
  "kernelspec": {
   "display_name": "Python 3",
   "language": "python",
   "name": "python3"
  },
  "language_info": {
   "codemirror_mode": {
    "name": "ipython",
    "version": 3
   },
   "file_extension": ".py",
   "mimetype": "text/x-python",
   "name": "python",
   "nbconvert_exporter": "python",
   "pygments_lexer": "ipython3",
   "version": "3.7.4"
  }
 },
 "nbformat": 4,
 "nbformat_minor": 4
}
