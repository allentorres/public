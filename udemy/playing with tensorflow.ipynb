{
 "cells": [
  {
   "cell_type": "code",
   "execution_count": 1,
   "metadata": {},
   "outputs": [],
   "source": [
    "import tensorflow as tf"
   ]
  },
  {
   "cell_type": "code",
   "execution_count": 21,
   "metadata": {},
   "outputs": [],
   "source": [
    "x = tf.constant(3.0)\n",
    "with tf.GradientTape() as g:\n",
    "    g.watch(x)\n",
    "    y = x ** .5\n",
    "dy_dx = g.gradient(y,x)"
   ]
  },
  {
   "cell_type": "code",
   "execution_count": 22,
   "metadata": {},
   "outputs": [
    {
     "name": "stdout",
     "output_type": "stream",
     "text": [
      "0.288675129\n"
     ]
    }
   ],
   "source": [
    "tf.print(dy_dx)"
   ]
  },
  {
   "cell_type": "markdown",
   "metadata": {},
   "source": [
    "Testing SGD"
   ]
  },
  {
   "cell_type": "code",
   "execution_count": 32,
   "metadata": {},
   "outputs": [
    {
     "name": "stdout",
     "output_type": "stream",
     "text": [
      "1 -1\n",
      "2.01 -4.040099999999999\n",
      "6.090500999999999 -37.09420243100099\n",
      "43.555645455310994 -1897.0942510287532\n",
      "1959.6208389943517 -3840113.832620927\n",
      "3880474.591786131 -15058083057497.738\n",
      "15208667768547.307 -2.313035752940497e+26\n",
      "2.3361661104700543e+26 -5.457672095708782e+52\n",
      "5.51224881666587e+52 -3.038488701683428e+105\n",
      "3.068873588700262e+105 -9.417985103422025e+210\n"
     ]
    }
   ],
   "source": [
    "def f(x):\n",
    "    return -x ** 2\n",
    "def f_1(x):\n",
    "    return -2 * x\n",
    "x = 1\n",
    "eta = 1.01\n",
    "for i in range(0,10):\n",
    "    x1 = x - eta * f(x)\n",
    "    print(x,f(x))\n",
    "    x = x1"
   ]
  }
 ],
 "metadata": {
  "kernelspec": {
   "display_name": "Python 3",
   "language": "python",
   "name": "python3"
  },
  "language_info": {
   "codemirror_mode": {
    "name": "ipython",
    "version": 3
   },
   "file_extension": ".py",
   "mimetype": "text/x-python",
   "name": "python",
   "nbconvert_exporter": "python",
   "pygments_lexer": "ipython3",
   "version": "3.7.8"
  }
 },
 "nbformat": 4,
 "nbformat_minor": 4
}
