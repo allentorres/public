{
 "cells": [
  {
   "cell_type": "code",
   "execution_count": 22,
   "metadata": {},
   "outputs": [
    {
     "data": {
      "text/plain": [
       "<tf.Tensor: shape=(), dtype=float32, numpy=6.0>"
      ]
     },
     "execution_count": 22,
     "metadata": {},
     "output_type": "execute_result"
    }
   ],
   "source": [
    "x = tf.constant(3.0)\n",
    "with tf.GradientTape() as g:\n",
    "  g.watch(x)\n",
    "  y = x * x\n",
    "dy_dx = g.gradient(y, x) # Will compute to 6.0\n",
    "dy_dx"
   ]
  },
  {
   "cell_type": "code",
   "execution_count": 2,
   "metadata": {},
   "outputs": [
    {
     "name": "stdout",
     "output_type": "stream",
     "text": [
      "The sum of a and b is  3\n"
     ]
    }
   ],
   "source": [
    "import tensorflow as tf\n",
    "a = tf.Variable(1, name = \"a\")\n",
    "b = tf.Variable(2, name = \"b\")\n",
    "f = a + b\n",
    "\n",
    "tf.print(\"The sum of a and b is \",f)"
   ]
  },
  {
   "cell_type": "markdown",
   "metadata": {},
   "source": [
    "f is the graph of the relationship between a and b"
   ]
  },
  {
   "cell_type": "markdown",
   "metadata": {},
   "source": [
    "Unlike normal Python, tensorflow does not run the code until print"
   ]
  },
  {
   "cell_type": "markdown",
   "metadata": {},
   "source": [
    "We will now play around with 70k images mimicking digits 0-9. We will identify which digit each image represents"
   ]
  },
  {
   "cell_type": "code",
   "execution_count": 4,
   "metadata": {},
   "outputs": [
    {
     "data": {
      "text/plain": [
       "array([5, 0, 4, ..., 5, 6, 8], dtype=uint8)"
      ]
     },
     "execution_count": 4,
     "metadata": {},
     "output_type": "execute_result"
    }
   ],
   "source": [
    "y_train"
   ]
  },
  {
   "cell_type": "code",
   "execution_count": 1,
   "metadata": {},
   "outputs": [],
   "source": [
    "import numpy as np\n",
    "import tensorflow as tf\n",
    "\n",
    "#dataset parameters\n",
    "num_class = 10 #digits 0-9\n",
    "num_features = 784 #image shape = 28 * 28\n",
    "\n",
    "(x_train, y_train), (x_test, y_test) = tf.keras.datasets.mnist.load_data()\n",
    "\n",
    "#convert data type\n",
    "x_train = np.array(x_train, np.float32)\n",
    "x_test = np.array(x_test, np.float32)\n",
    "\n",
    "#flatten image to 1D vector (784 features)\n",
    "x_train = x_train.reshape([-1,num_features])\n",
    "x_test = x_test.reshape([-1,num_features])\n",
    "\n",
    "#normalizing values (255 colors)\n",
    "x_train = x_train / 255.\n",
    "x_test = x_test / 255."
   ]
  },
  {
   "cell_type": "markdown",
   "metadata": {},
   "source": [
    "This is to visualize the input data"
   ]
  },
  {
   "cell_type": "code",
   "execution_count": 2,
   "metadata": {},
   "outputs": [
    {
     "data": {
      "image/png": "[encoded data removed]",
      "text/plain": [
       "<Figure size 432x288 with 1 Axes>"
      ]
     },
     "metadata": {
      "needs_background": "light"
     },
     "output_type": "display_data"
    }
   ],
   "source": [
    "%matplotlib inline\n",
    "import matplotlib.pyplot as plt\n",
    "\n",
    "def display_sample(num):\n",
    "    label = y_train[num]\n",
    "    \n",
    "    #reshape to 2D\n",
    "    image = x_train[num].reshape([28,28])\n",
    "    plt.title('Sample: %d  Label: %d' % (num, label))\n",
    "    plt.imshow(image, cmap = plt.get_cmap('gray_r'))\n",
    "    plt.show()\n",
    "    \n",
    "display_sample(10340)"
   ]
  },
  {
   "cell_type": "code",
   "execution_count": 2,
   "metadata": {},
   "outputs": [],
   "source": [
    "#training parameters\n",
    "learning_rate = .001 #how quickly we find optimal value in gradient descent\n",
    "training_steps = 3000 #how many training epochs\n",
    "batch_size = 250 #how many random samples for each step\n",
    "display_step = 100 #how often do we display progress\n",
    "n_hidden = 512 # number of neurons"
   ]
  },
  {
   "cell_type": "code",
   "execution_count": 3,
   "metadata": {},
   "outputs": [],
   "source": [
    "#Use tf.data API to shuffle and batch data\n",
    "train_data = tf.data.Dataset.from_tensor_slices((x_train, y_train))\n",
    "train_data = train_data.repeat().shuffle(60000).batch(batch_size).prefetch(1)"
   ]
  },
  {
   "cell_type": "code",
   "execution_count": 4,
   "metadata": {},
   "outputs": [],
   "source": [
    "#store layers, weights and biases\n",
    "random_normal = tf.initializers.RandomNormal()\n",
    "\n",
    "weights = {\n",
    "    'h' : tf.Variable(random_normal([num_features, n_hidden])), #input num_features independent variables, output n_hidden dependent variables\n",
    "    'out' : tf.Variable(random_normal([n_hidden, num_class])) #these are all initial conditions\n",
    "}\n",
    "biases = {\n",
    "    'b' : tf.Variable(tf.zeros([n_hidden])),\n",
    "    'out' : tf.Variable(tf.zeros([num_class]))\n",
    "}"
   ]
  },
  {
   "cell_type": "code",
   "execution_count": 5,
   "metadata": {},
   "outputs": [],
   "source": [
    "#topology of neuran network\n",
    "def neural_net(inputData):\n",
    "    #Hidden fully connected layer with 512 neurons\n",
    "    hidden_layer = tf.add(tf.matmul(inputData, weights['h']), biases['b']) #matrix multiplication of input values (784 components)\n",
    "        #these weights and biases are global variables since they can change irrespective of this function\n",
    "    # apply sigmoid to hidden_layer output for non-linearity\n",
    "    hidden_layer = tf.nn.sigmoid(hidden_layer) #1 / (1 + exp(-hidden_layer))\n",
    "    \n",
    "    #Output fully connected layer with a neuron for each class\n",
    "    out_layer = tf.matmul(hidden_layer, weights['out']) + biases['out']\n",
    "    # apply softmax to normalize the logits to a probability distribution\n",
    "    return tf.nn.softmax(out_layer)"
   ]
  },
  {
   "cell_type": "code",
   "execution_count": 6,
   "metadata": {},
   "outputs": [],
   "source": [
    "#we create a function to penalize wrong classification\n",
    "def cross_entropy(y_pred,y_true):\n",
    "    y_true = tf.one_hot(y_true, depth = num_class) #binary representation of being correct. example, \n",
    "        #example, [0,1,0,0] is the hot encoding of the second component being true\n",
    "    y_pred = tf.clip_by_value(y_pred,1e-9,1.) #forces range of y_pred to be between 1e-9 AND 1. to avoid error with logarithm\n",
    "    return tf.reduce_mean(-tf.reduce_sum(y_true * tf.math.log(y_pred))) #reduce_sum (mean) is just the sum (avg) of the components of a tensor #compute the whole batch"
   ]
  },
  {
   "cell_type": "code",
   "execution_count": 7,
   "metadata": {},
   "outputs": [],
   "source": [
    "optimizer = tf.keras.optimizers.SGD(learning_rate) #stochastic gradient descent\n",
    "\n",
    "def run_optimization(x,y):\n",
    "    #calling coefficients to be called training variables\n",
    "    trainable_variables = list(weights.values()) + list(biases.values())\n",
    "    \n",
    "    #GradientTape for automatic differentiation\n",
    "    with tf.GradientTape() as g:\n",
    "        g.watch(trainable_variables)\n",
    "        pred = neural_net(x)\n",
    "        loss = cross_entropy(pred, y)\n",
    "    \n",
    "    #compute gradients\n",
    "    gradients = g.gradient(loss, trainable_variables) #d loss / d trainable_variables\n",
    "    \n",
    "    #update W and b following gradients\n",
    "    optimizer.apply_gradients(zip(gradients, trainable_variables))"
   ]
  },
  {
   "cell_type": "code",
   "execution_count": 9,
   "metadata": {},
   "outputs": [],
   "source": [
    "optimizer = tf.keras.optimizers.SGD(learning_rate) #stochastic gradient descent\n",
    "\n",
    "def run_optimization(x,y):\n",
    "    #GradientTape for automatic differentiation\n",
    "    with tf.GradientTape() as g:\n",
    "        pred = neural_net(x)\n",
    "        loss = cross_entropy(pred, y)\n",
    "    #calling coefficients to be called training variables\n",
    "    trainable_variables = list(weights.values()) + list(biases.values())\n",
    "    \n",
    "    #compute gradients\n",
    "    gradients = g.gradient(loss, trainable_variables)\n",
    "    \n",
    "    #update W and b following gradients\n",
    "    optimizer.apply_gradients(zip(gradients, trainable_variables))"
   ]
  },
  {
   "cell_type": "code",
   "execution_count": 8,
   "metadata": {},
   "outputs": [],
   "source": [
    "#try to find a way \n",
    "#accuracy metric\n",
    "def accuracy(y_pred, y_true):\n",
    "    correct_prediction = tf.equal(tf.argmax(y_pred, 1),tf.cast(y_true, tf.int64))\n",
    "    return tf.reduce_mean(tf.cast(correct_prediction, tf.float32), axis = -1)"
   ]
  },
  {
   "cell_type": "code",
   "execution_count": 11,
   "metadata": {},
   "outputs": [],
   "source": [
    "x = batch_x\n",
    "y = batch_y\n",
    "with tf.GradientTape() as g:\n",
    "    pred = neural_net(x)\n",
    "    loss = cross_entropy(pred,y)\n",
    "    #loss = cross_entropy(pred, y)\n",
    "#calling coefficients to be called training variables\n",
    "trainable_variables = list(weights.values()) + list(biases.values())\n",
    "gradients = g.gradient(loss, trainable_variables)"
   ]
  },
  {
   "cell_type": "code",
   "execution_count": 9,
   "metadata": {},
   "outputs": [
    {
     "name": "stdout",
     "output_type": "stream",
     "text": [
      "Training epoch: 100, Loss: 170.757004, Accuracy: 0.800000\n",
      "Training epoch: 200, Loss: 114.144844, Accuracy: 0.880000\n",
      "Training epoch: 300, Loss: 111.345543, Accuracy: 0.888000\n",
      "Training epoch: 400, Loss: 93.130890, Accuracy: 0.892000\n",
      "Training epoch: 500, Loss: 98.962006, Accuracy: 0.880000\n",
      "Training epoch: 600, Loss: 93.651627, Accuracy: 0.924000\n",
      "Training epoch: 700, Loss: 69.950241, Accuracy: 0.884000\n",
      "Training epoch: 800, Loss: 80.495132, Accuracy: 0.908000\n",
      "Training epoch: 900, Loss: 78.070717, Accuracy: 0.904000\n",
      "Training epoch: 1000, Loss: 76.051369, Accuracy: 0.920000\n",
      "Training epoch: 1100, Loss: 91.429382, Accuracy: 0.888000\n",
      "Training epoch: 1200, Loss: 66.085480, Accuracy: 0.932000\n",
      "Training epoch: 1300, Loss: 71.626724, Accuracy: 0.924000\n",
      "Training epoch: 1400, Loss: 69.719650, Accuracy: 0.928000\n",
      "Training epoch: 1500, Loss: 63.749527, Accuracy: 0.932000\n",
      "Training epoch: 1600, Loss: 50.071594, Accuracy: 0.936000\n",
      "Training epoch: 1700, Loss: 53.166504, Accuracy: 0.920000\n",
      "Training epoch: 1800, Loss: 53.158829, Accuracy: 0.944000\n",
      "Training epoch: 1900, Loss: 65.581650, Accuracy: 0.920000\n",
      "Training epoch: 2000, Loss: 59.634342, Accuracy: 0.912000\n",
      "Training epoch: 2100, Loss: 69.048019, Accuracy: 0.912000\n",
      "Training epoch: 2200, Loss: 62.327110, Accuracy: 0.924000\n",
      "Training epoch: 2300, Loss: 51.353191, Accuracy: 0.952000\n",
      "Training epoch: 2400, Loss: 62.281097, Accuracy: 0.932000\n",
      "Training epoch: 2500, Loss: 69.483589, Accuracy: 0.940000\n",
      "Training epoch: 2600, Loss: 65.726822, Accuracy: 0.940000\n",
      "Training epoch: 2700, Loss: 52.422447, Accuracy: 0.940000\n",
      "Training epoch: 2800, Loss: 73.358742, Accuracy: 0.932000\n",
      "Training epoch: 2900, Loss: 66.533005, Accuracy: 0.936000\n",
      "Training epoch: 3000, Loss: 58.725761, Accuracy: 0.940000\n"
     ]
    }
   ],
   "source": [
    "#run training for given number of steps\n",
    "for step, (batch_x, batch_y) in enumerate(train_data.take(training_steps), 1):\n",
    "    # run optimization to update weights and biases\n",
    "    run_optimization(batch_x, batch_y)\n",
    "    \n",
    "    if step % display_step == 0:\n",
    "        pred = neural_net(batch_x)\n",
    "        loss = cross_entropy(pred, batch_y)\n",
    "        acc = accuracy(pred, batch_y)\n",
    "        print(\"Training epoch: %i, Loss: %f, Accuracy: %f\" % (step, loss, acc))"
   ]
  },
  {
   "cell_type": "code",
   "execution_count": 83,
   "metadata": {},
   "outputs": [
    {
     "name": "stdout",
     "output_type": "stream",
     "text": [
      "Test Accuracy: 0.967300\n"
     ]
    }
   ],
   "source": [
    "#Test model on validation set\n",
    "pred = neural_net(x_test)\n",
    "print(\"Test Accuracy: %f\" % accuracy(pred, y_test))"
   ]
  },
  {
   "cell_type": "code",
   "execution_count": 84,
   "metadata": {},
   "outputs": [
    {
     "data": {
      "image/png": "[encoded data removed]",
      "text/plain": [
       "<Figure size 432x288 with 1 Axes>"
      ]
     },
     "metadata": {
      "needs_background": "light"
     },
     "output_type": "display_data"
    },
    {
     "name": "stdout",
     "output_type": "stream",
     "text": [
      "Original Labels: 5\n",
      "Model prediction: 6\n"
     ]
    },
    {
     "data": {
      "image/png": "[encoded data removed]",
      "text/plain": [
       "<Figure size 432x288 with 1 Axes>"
      ]
     },
     "metadata": {
      "needs_background": "light"
     },
     "output_type": "display_data"
    },
    {
     "name": "stdout",
     "output_type": "stream",
     "text": [
      "Original Labels: 2\n",
      "Model prediction: 9\n"
     ]
    }
   ],
   "source": [
    "#see mistakes\n",
    "n_images = 200\n",
    "test_images = x_test[:n_images]\n",
    "test_labels = y_test[:n_images]\n",
    "prediction = neural_net(test_images)\n",
    "\n",
    "for i in range(n_images):\n",
    "    model_prediction = np.argmax(prediction.numpy()[i])\n",
    "    if (model_prediction != test_labels[i]):\n",
    "        plt.imshow(np.reshape(test_images[i], [28, 28]), cmap = 'gray_r')\n",
    "        plt.show()\n",
    "        print(\"Original Labels: %i\" % test_labels[i])\n",
    "        print(\"Model prediction: %i\" % model_prediction)"
   ]
  }
 ],
 "metadata": {
  "kernelspec": {
   "display_name": "Python 3",
   "language": "python",
   "name": "python3"
  },
  "language_info": {
   "codemirror_mode": {
    "name": "ipython",
    "version": 3
   },
   "file_extension": ".py",
   "mimetype": "text/x-python",
   "name": "python",
   "nbconvert_exporter": "python",
   "pygments_lexer": "ipython3",
   "version": "3.7.8"
  }
 },
 "nbformat": 4,
 "nbformat_minor": 4
}
