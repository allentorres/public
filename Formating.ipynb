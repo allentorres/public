{
 "cells": [
  {
   "cell_type": "markdown",
   "metadata": {},
   "source": [
    "Is this working?\n",
    "------"
   ]
  },
  {
   "cell_type": "markdown",
   "metadata": {},
   "source": [
    "No it's not\n",
    "========"
   ]
  },
  {
   "cell_type": "markdown",
   "metadata": {},
   "source": [
    "I'm stressing **this** and _this_ but ~~not this~~. Can also be <u>this</u>"
   ]
  },
  {
   "cell_type": "markdown",
   "metadata": {},
   "source": [
    "These are some lists\n",
    "- first\n",
    "- second\n",
    " - 2.1"
   ]
  },
  {
   "cell_type": "markdown",
   "metadata": {},
   "source": [
    "Some lists are also ordered\n",
    "1. first\n",
    "2. second\n",
    " 1. also this"
   ]
  },
  {
   "cell_type": "markdown",
   "metadata": {},
   "source": [
    "You can also follow this [link](https://www.google.com/search?q=how+to+do+latex+in+jupyter+notebook&rlz=1C1CHBF_enTH769TH769&oq=how+to+do+latex+in+jup&aqs=chrome.0.0j69i57j0l6.8623j0j7&sourceid=chrome&ie=UTF-8#kpvalbx=_AvySXvXzNtDc9QOUnbuQCw3)\n",
    "or some images like this ![this](https://www.techtalkthai.com/wp-content/uploads/2016/02/python_techtalkthai_banner.png \"python logo\")"
   ]
  },
  {
   "cell_type": "markdown",
   "metadata": {},
   "source": [
    "To quote\n",
    "> Don't believe everything you see on the internet\n",
    ">\n",
    "> Abraham Lincoln"
   ]
  },
  {
   "cell_type": "markdown",
   "metadata": {},
   "source": [
    "|Tables | Are | cool|\n",
    "|-------|:---:|----:|\n",
    "|col 3 is| right aligned| |\n",
    "|col 2 is| centered| |"
   ]
  },
  {
   "cell_type": "markdown",
   "metadata": {},
   "source": [
    "Python Code: \n",
    "``` python\n",
    "x=5 ```"
   ]
  },
  {
   "cell_type": "markdown",
   "metadata": {},
   "source": [
    "LateX $$e^{-i\\pi}+1=0$$"
   ]
  }
 ],
 "metadata": {
  "kernelspec": {
   "display_name": "Python 3",
   "language": "python",
   "name": "python3"
  },
  "language_info": {
   "codemirror_mode": {
    "name": "ipython",
    "version": 3
   },
   "file_extension": ".py",
   "mimetype": "text/x-python",
   "name": "python",
   "nbconvert_exporter": "python",
   "pygments_lexer": "ipython3",
   "version": "3.7.4"
  }
 },
 "nbformat": 4,
 "nbformat_minor": 4
}
