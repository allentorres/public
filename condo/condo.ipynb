{
 "cells": [
  {
   "cell_type": "markdown",
   "metadata": {},
   "source": [
    "Buy vs Rent\n",
    "==="
   ]
  },
  {
   "cell_type": "markdown",
   "metadata": {},
   "source": [
    "In this exercise, we will be comparing the present value and cash flows of each option of living in a new condo: buying or renting"
   ]
  },
  {
   "cell_type": "markdown",
   "metadata": {},
   "source": [
    "Here is the link of the GSheet: https://docs.google.com/spreadsheets/d/1lL0jxCZGP51TP5G_CfIzHkjqYz66PFG_HocBAUp1d3o/edit#gid=0"
   ]
  },
  {
   "cell_type": "markdown",
   "metadata": {},
   "source": [
    "The following links show the interest rates of each bank"
   ]
  },
  {
   "cell_type": "markdown",
   "metadata": {},
   "source": [
    "กรุงไทย https://krungthai.com/th/personal/loan/housing-loan/16?fbclid=IwAR29mUnFI7fu_jljRXtcgRlZ8JboFtvnC0lw-zcHlrUfro5Kl4JIqzGtyzg"
   ]
  },
  {
   "cell_type": "markdown",
   "metadata": {},
   "source": [
    "First is to compare rent and mortgage present values and monthly cash flows. For simplicity, we assume monthly compounding interest and moving out in 4 years, maturity is 30 years"
   ]
  },
  {
   "cell_type": "markdown",
   "metadata": {},
   "source": [
    "We first extract all the historical market price data of each square meter of each condo"
   ]
  },
  {
   "cell_type": "code",
   "execution_count": 2,
   "metadata": {},
   "outputs": [],
   "source": [
    "from csv import reader\n",
    "import pandas as pd\n",
    "import numpy as np\n",
    "opened_file=open('condo price changes.csv')\n",
    "read_file=reader(opened_file)\n",
    "hist=list(read_file)\n",
    "hist=pd.DataFrame(data=hist[1:],columns=[\"condo\",\"date\",\"price\"])"
   ]
  },
  {
   "cell_type": "markdown",
   "metadata": {},
   "source": [
    "Here are some of the assumptions that we have"
   ]
  },
  {
   "cell_type": "code",
   "execution_count": 3,
   "metadata": {},
   "outputs": [],
   "source": [
    "rent={'Abstracts Phahonyothin Park':28000,'Seed Terre':15000,'Central Ratchayothin Park':9000}\n",
    "offer_price={'Abstracts Phahonyothin Park':5300000,'Seed Terre':5000000,'Central Ratchayothin Park':3300000}\n",
    "sqm={'Abstracts Phahonyothin Park':47,'Seed Terre':51,'Central Ratchayothin Park':68}\n",
    "juristic={'Abstracts Phahonyothin Park':10000,'Seed Terre':10000,'Central Ratchayothin Park':10000}\n",
    "t=4 #number of years before we move out of the condo\n",
    "T=30 #years maturity of the mortgage\n",
    "tax=.13 #taxation on top of the monthly payment\n",
    "mrr=.0712\n",
    "rT=[[mrr-0.0562,1],[mrr-0.0325,2],[mrr-0.023,3],[mrr-0.01,30]] #as from กรุงไทย \n",
    "simple_rt=[[.03,4]]\n",
    "simple_rt2=[[.01,1],[.99,2]]\n",
    "#the first field is interest rate from the bank, the second field is the year number until the rate is effective\n",
    "pv_r=.03 #rate used for present value"
   ]
  },
  {
   "cell_type": "code",
   "execution_count": 4,
   "metadata": {},
   "outputs": [],
   "source": [
    "mrr=0.06245\n",
    "krung_thai_2nd_15=[[mrr-0.0562,1],[mrr-0.0325,2],[mrr-0.023,3],[mrr-0.01,30]] #insurance for 15 years\n",
    "krung_thai_2nd_10=[[mrr-0.0537,1],[mrr-0.0325,2],[mrr-0.02305,3],[mrr-0.01,30]] #insurance for 10 years\n",
    "krung_thai_2nd_0=[[mrr-0.0512,1],[mrr-0.0325,2],[mrr-0.03,3],[mrr-0.01,30]] #no insurance\n"
   ]
  },
  {
   "cell_type": "markdown",
   "metadata": {},
   "source": [
    "Computation of the present value if we rent"
   ]
  },
  {
   "cell_type": "code",
   "execution_count": 5,
   "metadata": {},
   "outputs": [],
   "source": [
    "def rent_pv(condo,pv_r,s):\n",
    "    pymt=rent[condo]\n",
    "    if pv_r==0:\n",
    "        pv=pymt*s*12\n",
    "    else:\n",
    "        a=1/(1+pv_r/12)\n",
    "        pv=pymt*a*(1-a**(12*s))/(1-a)\n",
    "    return pv\n",
    "#already tested"
   ]
  },
  {
   "cell_type": "code",
   "execution_count": 6,
   "metadata": {},
   "outputs": [],
   "source": [
    "def mortgage_schedule(condo,rt,p):\n",
    "    b_0=offer_price[condo]\n",
    "    tminus1=0\n",
    "    ib_list=[] #list of interest and balance\n",
    "    for i in rt:\n",
    "        for k in range(tminus1*12,12*i[1]):\n",
    "            interest=i[0]*b_0/12\n",
    "            b_0+=interest-p\n",
    "            ib_list.append([interest,b_0])\n",
    "            tminus1=i[1]\n",
    "    return ib_list\n",
    "#tested\n",
    "\n",
    "def mortgage_pymt(condo,rt): #using secant method\n",
    "    x_2=15000\n",
    "    x_1=24000\n",
    "    while abs(mortgage_schedule(condo,rt,x_1)[-1:][0][1])>.01:\n",
    "        f_2=mortgage_schedule(condo,rt,x_2)[-1:][0][1]\n",
    "        f_1=mortgage_schedule(condo,rt,x_1)[-1:][0][1]\n",
    "        x = (x_2 * f_1 - x_1 * f_2) / (f_1 - f_2)\n",
    "        x_2 = x_1\n",
    "        x_1 = x\n",
    "    return x\n",
    "#tested\n",
    "\n",
    "def juristic_pv(condo,pv_r,t=t):\n",
    "    j=juristic[condo] #juristic annual payment\n",
    "    a=(1+pv_r/12)\n",
    "    return j*a*(1-a**(12*t))/(1-a**12)\n",
    "\n",
    "def marketprice(condo,s):\n",
    "    current_marketprice=float(hist[hist['condo']==condo].iloc[-1,:]['price'])*sqm[condo]\n",
    "    st=hist[hist['condo']==condo]\n",
    "    ln_rate=np.log(st['price'].astype(float)).diff(periods=4*s)\n",
    "    return current_marketprice*np.exp(ln_rate.dropna().sort_values())"
   ]
  },
  {
   "cell_type": "code",
   "execution_count": 15,
   "metadata": {},
   "outputs": [],
   "source": [
    "def mortgage_schedule(condo,rt,dp,p): #p=monthly fixed payment, #dp=downpayment as %\n",
    "    b_0=offer_price[condo]*(1-dp)\n",
    "    tminus1=0\n",
    "    ib_list=[] #list of interest and balance\n",
    "    for i in rt:\n",
    "        for k in range(tminus1*12,12*i[1]):\n",
    "            interest=i[0]*b_0/12\n",
    "            b_0+=interest-p\n",
    "            ib_list.append([interest,b_0])\n",
    "            tminus1=i[1]\n",
    "    return ib_list\n",
    "#tested\n",
    "\n",
    "def mortgage_pymt(condo,rt,dp): #using secant method\n",
    "    x_2=15000\n",
    "    x_1=24000\n",
    "    while abs(mortgage_schedule(condo,rt,dp,x_1)[-1:][0][1])>.01:\n",
    "        f_2=mortgage_schedule(condo,rt,dp,x_2)[-1:][0][1]\n",
    "        f_1=mortgage_schedule(condo,rt,dp,x_1)[-1:][0][1]\n",
    "        x = (x_2 * f_1 - x_1 * f_2) / (f_1 - f_2)\n",
    "        x_2 = x_1\n",
    "        x_1 = x\n",
    "    return x\n",
    "#tested\n",
    "\n",
    "def juristic_pv(condo,pv_r,t=t):\n",
    "    j=juristic[condo] #juristic annual payment\n",
    "    a=(1+pv_r/12)\n",
    "    return j*a*(1-a**(12*t))/(1-a**12)\n",
    "\n",
    "def marketprice(condo,s):\n",
    "    current_marketprice=float(hist[hist['condo']==condo].iloc[-1,:]['price'])*sqm[condo]\n",
    "    st=hist[hist['condo']==condo]\n",
    "    ln_rate=np.log(st['price'].astype(float)).diff(periods=4*s)\n",
    "    return current_marketprice*np.exp(ln_rate.dropna().sort_values())"
   ]
  },
  {
   "cell_type": "code",
   "execution_count": 31,
   "metadata": {},
   "outputs": [],
   "source": [
    "def mortgage_pv(condo,pv_r,rt,dp,s):\n",
    "    #marketprice - (mortgage payments + mortgage balance + juristic)\n",
    "    pymt=mortgage_pymt(condo,rt,dp)\n",
    "    pv_a=1/(1+pv_r/12)\n",
    "    pymt_pv=pymt * pv_a * (1 - pv_a ** (12 * s)) / (1 - pv_a)\n",
    "    \n",
    "    sched=mortgage_schedule(condo,rt,dp,pymt)\n",
    "    pv_b=sched[12*t+1][0][1] * pv_a ** (12 * s)\n",
    "    \n",
    "    cost=pymt_pv + pv_b + juristic_pv(condo,pv_r,s)\n",
    "    hello=[]\n",
    "    for k in marketprice(condo):\n",
    "        hello.append(k/(1+pv_r)**(12*s)-costs)\n",
    "    return hello"
   ]
  },
  {
   "cell_type": "markdown",
   "metadata": {},
   "source": [
    "|loan type|interest|\n",
    "|-|-|\n",
    "|MLR|6-8.47%|\n",
    "|MRR|7.12-12.75%|\n",
    "|MOR|6.87-8.65%|"
   ]
  },
  {
   "cell_type": "markdown",
   "metadata": {},
   "source": [
    "Occupancy is from 65-90%; annual increase in value 8%"
   ]
  },
  {
   "cell_type": "markdown",
   "metadata": {},
   "source": [
    "now we compute for the future marketprice"
   ]
  },
  {
   "cell_type": "code",
   "execution_count": 46,
   "metadata": {},
   "outputs": [],
   "source": [
    "def summary(condo,pv_r,rt,dp,t):\n",
    "    a=1/(1+pv_r/12)\n",
    "    pymt=mortgage_pymt(condo,rt,dp)\n",
    "    mortgage_pymt_pv=pymt*a*(1-a**(12*t))/(1-a)\n",
    "    mortgage_remaining_balance=mortgage_schedule(condo,rt,dp,pymt)[12*t+1][1]\n",
    "    print(\"The current rent price is \",'{:,.2f}'.format(rent[condo]))\n",
    "    print(\"The current marketprice is \",'{:,.2f}'.format(float(hist[hist['condo']==condo].iloc[-1,:]['price'])*sqm[condo]))\n",
    "    print(\"The offer price is \",'{:,.2f}'.format(offer_price[condo]))\n",
    "    print(\"The monthly mortgage payment is \",'{:,.2f}'.format(pymt))\n",
    "    print(\"The annual juristic is \",'{:,.2f}'.format(juristic[condo]))\n",
    "    print(\"After \", t ,\" years, the remaining mortgage balance is \",'{:,.2f}'.format(mortgage_schedule(condo,rt,dp,pymt)[12*t][1]))\n",
    "    print(\"After \",t,\" years, the marketprice of the condo is \",'{:,.2f}'.format(marketprice(condo,t).median()))\n",
    "    print(\"After \",t,\" years, the marketprice of the condo worst case is \",'{:,.2f}'.format(marketprice(condo,t).iloc[0]*a**(12*t)))\n",
    "    print(\"Present value of the median :\" , '{:,.2f}'.format(marketprice(condo,t).median()*a**(12*t) - offer_price[condo]*dp - mortgage_pymt_pv - juristic_pv(condo,pv_r) - mortgage_remaining_balance*a**(12*t)))\n",
    "    print(\"Present value of the worst case :\" , '{:,.2f}'.format(marketprice(condo,t).iloc[0]*a**(12*t) - mortgage_pymt_pv - juristic_pv(condo,pv_r) - mortgage_remaining_balance*a**(12*t)))\n",
    "    print(\"The present value of all the rent payments is \",'{:,.2f}'.format(-rent_pv(condo,pv_r,t)))"
   ]
  },
  {
   "cell_type": "code",
   "execution_count": 56,
   "metadata": {},
   "outputs": [
    {
     "name": "stdout",
     "output_type": "stream",
     "text": [
      "The current rent price is  28,000.00\n",
      "The current marketprice is  5,034,029.00\n",
      "The offer price is  5,300,000.00\n",
      "The monthly mortgage payment is  27,076.06\n",
      "The annual juristic is  10,000.00\n",
      "After  4  years, the remaining mortgage balance is  4,598,987.41\n",
      "After  4  years, the marketprice of the condo is  6,076,354.50\n",
      "After  4  years, the marketprice of the condo worst case is  3,188,732.26\n",
      "Present value of the median : -52,757.60\n",
      "Present value of the worst case : -1,460,172.74\n",
      "The present value of all the rent payments is  -1,169,285.64\n"
     ]
    }
   ],
   "source": [
    "summary('Abstracts Phahonyothin Park',.07,krung_thai_2nd_0,0,4)"
   ]
  },
  {
   "cell_type": "code",
   "execution_count": 53,
   "metadata": {},
   "outputs": [
    {
     "name": "stdout",
     "output_type": "stream",
     "text": [
      "The current rent price is  28,000.00\n",
      "The current marketprice is  5,034,029.00\n",
      "The offer price is  5,300,000.00\n",
      "The monthly mortgage payment is  24,368.46\n",
      "The annual juristic is  10,000.00\n",
      "After  4  years, the remaining mortgage balance is  4,139,088.67\n",
      "After  4  years, the marketprice of the condo is  6,076,354.50\n",
      "After  4  years, the marketprice of the condo worst case is  3,188,732.26\n",
      "Present value of the median : -122,348.11\n",
      "Present value of the worst case : -999,763.25\n",
      "The present value of all the rent payments is  -1,169,285.64\n"
     ]
    }
   ],
   "source": [
    "summary('Abstracts Phahonyothin Park',.07,krung_thai_2nd_0,0.1,4)"
   ]
  },
  {
   "cell_type": "code",
   "execution_count": 54,
   "metadata": {},
   "outputs": [
    {
     "name": "stdout",
     "output_type": "stream",
     "text": [
      "The current rent price is  15,000.00\n",
      "The current marketprice is  5,285,385.00\n",
      "The offer price is  5,000,000.00\n",
      "The monthly mortgage payment is  22,989.11\n",
      "The annual juristic is  10,000.00\n",
      "After  4  years, the remaining mortgage balance is  3,904,800.63\n",
      "After  4  years, the marketprice of the condo is  5,796,812.17\n",
      "After  4  years, the marketprice of the condo worst case is  3,240,184.91\n",
      "Present value of the median : -69,245.37\n",
      "Present value of the worst case : -713,762.37\n",
      "The present value of all the rent payments is  -626,403.02\n"
     ]
    }
   ],
   "source": [
    "summary('Seed Terre',.07,krung_thai_2nd_0,0.1,4)"
   ]
  },
  {
   "cell_type": "code",
   "execution_count": 55,
   "metadata": {},
   "outputs": [
    {
     "name": "stdout",
     "output_type": "stream",
     "text": [
      "The current rent price is  9,000.00\n",
      "The current marketprice is  3,789,980.00\n",
      "The offer price is  3,300,000.00\n",
      "The monthly mortgage payment is  15,172.81\n",
      "The annual juristic is  10,000.00\n",
      "After  4  years, the remaining mortgage balance is  2,577,168.42\n",
      "After  4  years, the marketprice of the condo is  4,226,162.92\n",
      "After  4  years, the marketprice of the condo worst case is  2,133,777.60\n",
      "Present value of the median : 241,824.03\n",
      "Present value of the worst case : -491,063.03\n",
      "The present value of all the rent payments is  -375,841.81\n"
     ]
    }
   ],
   "source": [
    "summary('Central Ratchayothin Park',.07,krung_thai_2nd_0,0.1,4)"
   ]
  }
 ],
 "metadata": {
  "kernelspec": {
   "display_name": "Python 3",
   "language": "python",
   "name": "python3"
  },
  "language_info": {
   "codemirror_mode": {
    "name": "ipython",
    "version": 3
   },
   "file_extension": ".py",
   "mimetype": "text/x-python",
   "name": "python",
   "nbconvert_exporter": "python",
   "pygments_lexer": "ipython3",
   "version": "3.7.4"
  }
 },
 "nbformat": 4,
 "nbformat_minor": 4
}
