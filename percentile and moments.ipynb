{
 "cells": [
  {
   "cell_type": "code",
   "execution_count": 2,
   "metadata": {},
   "outputs": [
    {
     "data": {
      "text/plain": [
       "27231.536219812548"
      ]
     },
     "execution_count": 2,
     "metadata": {},
     "output_type": "execute_result"
    }
   ],
   "source": [
    "import numpy as np\n",
    "incomes = np.random.normal(27000,15000,10000)\n",
    "np.mean(incomes)"
   ]
  },
  {
   "cell_type": "markdown",
   "metadata": {},
   "source": [
    "We can segment these into 50 buckets then plot in a histogram"
   ]
  },
  {
   "cell_type": "code",
   "execution_count": 8,
   "metadata": {},
   "outputs": [
    {
     "data": {
      "image/png": "[encoded data removed]",
      "text/plain": [
       "<Figure size 432x288 with 1 Axes>"
      ]
     },
     "metadata": {
      "needs_background": "light"
     },
     "output_type": "display_data"
    }
   ],
   "source": [
    "#matlpotlib inline\n",
    "import matplotlib.pyplot as plt\n",
    "plt.hist(incomes,10) #split up into n buckets\n",
    "plt.show()"
   ]
  },
  {
   "cell_type": "markdown",
   "metadata": {},
   "source": [
    "now compute for the median"
   ]
  },
  {
   "cell_type": "code",
   "execution_count": 13,
   "metadata": {},
   "outputs": [
    {
     "data": {
      "text/plain": [
       "27371.58074486516"
      ]
     },
     "execution_count": 13,
     "metadata": {},
     "output_type": "execute_result"
    }
   ],
   "source": [
    "np.median(incomes)"
   ]
  },
  {
   "cell_type": "markdown",
   "metadata": {},
   "source": [
    "now let's add Jeff Bezos who has 100,000,000,000"
   ]
  },
  {
   "cell_type": "code",
   "execution_count": 14,
   "metadata": {},
   "outputs": [],
   "source": [
    "incomes=np.append(incomes,[100000000000])"
   ]
  },
  {
   "cell_type": "code",
   "execution_count": 15,
   "metadata": {},
   "outputs": [
    {
     "data": {
      "text/plain": [
       "10026234.650227506"
      ]
     },
     "execution_count": 15,
     "metadata": {},
     "output_type": "execute_result"
    }
   ],
   "source": [
    "np.mean(incomes)"
   ]
  },
  {
   "cell_type": "code",
   "execution_count": 16,
   "metadata": {},
   "outputs": [
    {
     "data": {
      "text/plain": [
       "27373.971492292563"
      ]
     },
     "execution_count": 16,
     "metadata": {},
     "output_type": "execute_result"
    }
   ],
   "source": [
    "np.median(incomes)"
   ]
  },
  {
   "cell_type": "markdown",
   "metadata": {},
   "source": [
    "Mode"
   ]
  },
  {
   "cell_type": "markdown",
   "metadata": {},
   "source": [
    "Generate fake ages for 500 people"
   ]
  },
  {
   "cell_type": "code",
   "execution_count": 3,
   "metadata": {},
   "outputs": [
    {
     "data": {
      "text/plain": [
       "array([34, 60, 88, 53, 84, 71, 87, 86, 54, 19, 72, 51, 83, 89, 72, 19, 46,\n",
       "       20, 47, 21, 22, 83, 80, 21, 28, 44, 50, 42, 79, 36, 68, 76, 31, 80,\n",
       "       63, 84, 80, 25, 50, 30, 82, 40, 85, 67, 82, 66, 46, 41, 27, 28, 40,\n",
       "       58, 75, 46, 28, 49, 55, 49, 73, 18, 70, 29, 57, 47, 20, 53, 54, 52,\n",
       "       23, 56, 44, 18, 18, 20, 62, 23, 77, 21, 56, 51, 82, 72, 18, 42, 79,\n",
       "       49, 55, 68, 48, 50, 78, 46, 62, 70, 51, 21, 35, 80, 81, 70, 18, 26,\n",
       "       38, 30, 77, 86, 48, 48, 89, 59, 61, 44, 84, 54, 64, 48, 61, 59, 59,\n",
       "       47, 73, 30, 60, 30, 73, 79, 43, 30, 82, 27, 56, 59, 73, 54, 21, 43,\n",
       "       55, 68, 21, 52, 42, 39, 25, 22, 60, 22, 81, 85, 69, 22, 82, 58, 20,\n",
       "       27, 70, 84, 30, 73, 63, 20, 54, 80, 38, 79, 39, 42, 71, 40, 56, 29,\n",
       "       20, 86, 74, 29, 89, 66, 28, 88, 26, 18, 81, 50, 63, 42, 20, 69, 84,\n",
       "       26, 30, 28, 40, 89, 33, 46, 41, 54, 49, 69, 31, 42, 46, 52, 42, 46,\n",
       "       89, 78, 83, 18, 88, 75, 36, 37, 71, 80, 73, 25, 20, 18, 71, 39, 72,\n",
       "       84, 36, 28, 21, 38, 54, 83, 52, 36, 24, 73, 51, 26, 54, 66, 57, 26,\n",
       "       78, 18, 59, 74, 61, 59, 61, 73, 87, 38, 67, 28, 27, 71, 42, 35, 20,\n",
       "       52, 88, 25, 85, 21, 76, 45, 83, 84, 46, 26, 33, 77, 42, 34, 75, 40,\n",
       "       22, 70, 51, 65, 42, 32, 32, 59, 55, 50, 41, 46, 77, 34, 87, 18, 42,\n",
       "       33, 25, 69, 69, 78, 25, 54, 18, 31, 19, 41, 72, 18, 40, 67, 49, 44,\n",
       "       41, 71, 19, 28, 23, 65, 82, 29, 43, 55, 34, 38, 33, 36, 55, 37, 26,\n",
       "       67, 54, 51, 75, 78, 36, 65, 45, 57, 55, 26, 37, 66, 59, 73, 42, 24,\n",
       "       71, 69, 51, 62, 65, 80, 56, 81, 85, 18, 19, 73, 45, 58, 44, 32, 24,\n",
       "       60, 39, 81, 81, 74, 85, 38, 45, 70, 44, 59, 50, 88, 72, 24, 81, 84,\n",
       "       81, 85, 38, 47, 24, 62, 34, 22, 81, 77, 37, 82, 55, 23, 76, 36, 80,\n",
       "       61, 84, 78, 81, 63, 64, 37, 45, 26, 20, 51, 36, 26, 71, 83, 81, 58,\n",
       "       75, 36, 35, 82, 26, 50, 85, 70, 62, 26, 78, 82, 55, 42, 85, 70, 89,\n",
       "       30, 18, 67, 22, 64, 62, 68, 88, 25, 39, 42, 49, 79, 87, 34, 76, 70,\n",
       "       49, 22, 18, 55, 31, 84, 83, 55, 66, 38, 75, 32, 37, 36, 49, 38, 20,\n",
       "       40, 43, 32, 72, 18, 53, 69, 83, 74, 56, 82, 64, 62, 66, 26, 73, 31,\n",
       "       41, 20, 71, 29, 37, 34, 45, 59, 56, 83, 62, 47, 88, 19, 83, 89, 30,\n",
       "       81, 75, 41, 64, 55, 66, 85])"
      ]
     },
     "execution_count": 3,
     "metadata": {},
     "output_type": "execute_result"
    }
   ],
   "source": [
    "ages= np.random.randint(18,high=90,size=500) #(min value,highest value,number of variables)\n",
    "ages"
   ]
  },
  {
   "cell_type": "code",
   "execution_count": 10,
   "metadata": {},
   "outputs": [
    {
     "data": {
      "text/plain": [
       "(array([16.,  6., 12.,  0.,  8.,  8.,  0.,  4.,  5.,  7.,  0., 13.,  4.,\n",
       "         0.,  8.,  5.,  9.,  0.,  5.,  5.,  0.,  4.,  7.,  3.,  0., 10.,\n",
       "         7.,  0.,  9.,  5.,  7.,  0.,  7., 14.,  0.,  4.,  6.,  0.,  6.,\n",
       "         9.,  5.,  0.,  4.,  8.,  0.,  7.,  8.,  5.,  0.,  3., 10.,  0.,\n",
       "        12.,  7.,  3.,  0.,  4., 10.,  0.,  4.,  5.,  8.,  0.,  4.,  5.,\n",
       "         0.,  4.,  7.,  0.,  5.,  4.,  7.,  0.,  9.,  9.,  0.,  7., 11.,\n",
       "         4.,  0.,  7.,  4.,  0.,  5.,  7.,  5.,  0.,  8., 12.,  0., 10.,\n",
       "        10., 10.,  0.,  9.,  3.,  0.,  4.,  7.,  7.]),\n",
       " array([18.  , 18.71, 19.42, 20.13, 20.84, 21.55, 22.26, 22.97, 23.68,\n",
       "        24.39, 25.1 , 25.81, 26.52, 27.23, 27.94, 28.65, 29.36, 30.07,\n",
       "        30.78, 31.49, 32.2 , 32.91, 33.62, 34.33, 35.04, 35.75, 36.46,\n",
       "        37.17, 37.88, 38.59, 39.3 , 40.01, 40.72, 41.43, 42.14, 42.85,\n",
       "        43.56, 44.27, 44.98, 45.69, 46.4 , 47.11, 47.82, 48.53, 49.24,\n",
       "        49.95, 50.66, 51.37, 52.08, 52.79, 53.5 , 54.21, 54.92, 55.63,\n",
       "        56.34, 57.05, 57.76, 58.47, 59.18, 59.89, 60.6 , 61.31, 62.02,\n",
       "        62.73, 63.44, 64.15, 64.86, 65.57, 66.28, 66.99, 67.7 , 68.41,\n",
       "        69.12, 69.83, 70.54, 71.25, 71.96, 72.67, 73.38, 74.09, 74.8 ,\n",
       "        75.51, 76.22, 76.93, 77.64, 78.35, 79.06, 79.77, 80.48, 81.19,\n",
       "        81.9 , 82.61, 83.32, 84.03, 84.74, 85.45, 86.16, 86.87, 87.58,\n",
       "        88.29, 89.  ]),\n",
       " <a list of 100 Patch objects>)"
      ]
     },
     "execution_count": 10,
     "metadata": {},
     "output_type": "execute_result"
    },
    {
     "data": {
      "image/png": "[encoded data removed]",
      "text/plain": [
       "<Figure size 432x288 with 1 Axes>"
      ]
     },
     "metadata": {
      "needs_background": "light"
     },
     "output_type": "display_data"
    }
   ],
   "source": [
    "from scipy import stats\n",
    "stats.mode(ages)\n",
    "plt.hist(ages,100)"
   ]
  },
  {
   "cell_type": "code",
   "execution_count": 14,
   "metadata": {},
   "outputs": [
    {
     "data": {
      "text/plain": [
       "14837.00306758176"
      ]
     },
     "execution_count": 14,
     "metadata": {},
     "output_type": "execute_result"
    }
   ],
   "source": [
    "np.std(incomes) #standard deviation"
   ]
  },
  {
   "cell_type": "code",
   "execution_count": 13,
   "metadata": {},
   "outputs": [
    {
     "data": {
      "text/plain": [
       "220136660.02743056"
      ]
     },
     "execution_count": 13,
     "metadata": {},
     "output_type": "execute_result"
    }
   ],
   "source": [
    "np.var(incomes) #variance"
   ]
  },
  {
   "cell_type": "code",
   "execution_count": 16,
   "metadata": {},
   "outputs": [
    {
     "data": {
      "text/plain": [
       "0.008892269041546389"
      ]
     },
     "execution_count": 16,
     "metadata": {},
     "output_type": "execute_result"
    }
   ],
   "source": [
    "stats.skew(incomes) #skewness"
   ]
  },
  {
   "cell_type": "code",
   "execution_count": 17,
   "metadata": {},
   "outputs": [
    {
     "data": {
      "text/plain": [
       "-0.06900296108503401"
      ]
     },
     "execution_count": 17,
     "metadata": {},
     "output_type": "execute_result"
    }
   ],
   "source": [
    "stats.kurtosis(incomes) #kurtosis"
   ]
  },
  {
   "cell_type": "markdown",
   "metadata": {},
   "source": [
    "Percentile"
   ]
  },
  {
   "cell_type": "code",
   "execution_count": 1,
   "metadata": {},
   "outputs": [
    {
     "data": {
      "image/png": "[encoded data removed]",
      "text/plain": [
       "<Figure size 432x288 with 1 Axes>"
      ]
     },
     "metadata": {
      "needs_background": "light"
     },
     "output_type": "display_data"
    }
   ],
   "source": [
    "import numpy as np\n",
    "import matplotlib.pyplot as plt\n",
    "vals=np.random.normal(0,.5,10000)\n",
    "plt.hist(vals,50)\n",
    "plt.show()"
   ]
  },
  {
   "cell_type": "code",
   "execution_count": 2,
   "metadata": {},
   "outputs": [
    {
     "data": {
      "text/plain": [
       "0.008645197776635988"
      ]
     },
     "execution_count": 2,
     "metadata": {},
     "output_type": "execute_result"
    }
   ],
   "source": [
    "np.percentile(vals,50)"
   ]
  }
 ],
 "metadata": {
  "kernelspec": {
   "display_name": "Python 3",
   "language": "python",
   "name": "python3"
  },
  "language_info": {
   "codemirror_mode": {
    "name": "ipython",
    "version": 3
   },
   "file_extension": ".py",
   "mimetype": "text/x-python",
   "name": "python",
   "nbconvert_exporter": "python",
   "pygments_lexer": "ipython3",
   "version": "3.7.4"
  }
 },
 "nbformat": 4,
 "nbformat_minor": 4
}
